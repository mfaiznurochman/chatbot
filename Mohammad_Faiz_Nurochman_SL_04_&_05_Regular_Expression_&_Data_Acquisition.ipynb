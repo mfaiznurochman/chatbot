{
  "nbformat": 4,
  "nbformat_minor": 0,
  "metadata": {
    "colab": {
      "provenance": [],
      "collapsed_sections": [
        "xvvlUt1l6vu6"
      ]
    },
    "kernelspec": {
      "name": "python3",
      "display_name": "Python 3"
    },
    "language_info": {
      "name": "python"
    },
    "accelerator": "GPU",
    "gpuClass": "standard"
  },
  "cells": [
    {
      "cell_type": "markdown",
      "source": [
        "# BERLIAN HARIRATUL MAHYA\n",
        "\n",
        "CLASS COSMIC\n"
      ],
      "metadata": {
        "id": "5-tSB2wx1pHU"
      }
    },
    {
      "cell_type": "markdown",
      "source": [
        "## Regular Expression (Regex)\n",
        "> Library untuk pengenalan dan pengelolaan pola pada teks\n",
        "> \n",
        "\n",
        "Contoh implementasi:\n",
        "- Pola Email\n",
        "- Pola Nomor telepon\n",
        "- Pola url\n",
        "- Pola Nomor plat kendaraan bermotor \n",
        "- Menghilangkan karakter khusus pada teks\n",
        "- dll."
      ],
      "metadata": {
        "id": "V6uGozZv4e5K"
      }
    },
    {
      "cell_type": "markdown",
      "source": [
        "**Contoh Syntax dan Aturan-aturan pada class Regex**\n",
        "\n",
        "---\n",
        "Kelas Karakter\n",
        "---\n",
        "\n",
        "*   [ abc] = karakter a ,b atau c (kelas sederhana)\n",
        "*   [^abc] = kecuali karakter a ,b ,atau (negasi)\n",
        "*   [a-zA-Z] = karakter a sampai z huruf kecil , atau A sampai Z huruf besar ,(jarak)\n",
        "*   [a-z[x-y]] = karakter a sampai d ,atau m sampai p (a-xy-z : gabungan)\n",
        "*   [a-z0-9] = karakter a sampai z ,atau angka dari 0 sampai 9\n",
        "*   [a-z&&[^bc] = karakter a sampi z, kecuali untuk b dan c.\n",
        "\n",
        "---\n",
        "Meta Karakter\n",
        "---\n",
        "*   . = tanda titik ,yang berarti karakter apa saja\n",
        "*   \\d = angka digit apa saja:, seperti [0-9]\n",
        "*   \\D = selain angka digit : [^0-9]\n",
        "*   \\s = sebuah spasi pada kaarkter, seperti [ \\t\\n\\x0B\\f\\r]\n",
        "*   \\S = selain spasi pada karakter: [^\\s]\n",
        "*   \\w = huruf dan angka apa saja ,seperti [a-zA-Z_0-9]\n",
        "*   \\W = selain angka dan huruf ,[\\w]\n",
        "\n",
        "---\n",
        "Batasan Kecocokan Karakter\n",
        "---\n",
        "*   ^ = tanda awalan\n",
        "*   $ = tanda akhiran\n",
        "*   \\b = batasan kecocokan kata\n",
        "*   \\B = batasan kecocokan selain kata\n",
        "*   \\A = awalan untuk input text\n",
        "*   \\G = akhir dari kecocokan sebelumnya\n",
        "*   \\Z = akhir dari input text, kecuali final terminator jika ada\n",
        "*   \\z = akhir dari input text\n"
      ],
      "metadata": {
        "id": "oAlARrGQ4l-k"
      }
    },
    {
      "cell_type": "code",
      "execution_count": 204,
      "metadata": {
        "id": "I1d9WoQ54eD_"
      },
      "outputs": [],
      "source": [
        "# Import Library Regex (re)\n",
        "import re\n",
        "\n",
        "# Pola Email\n",
        "email_pattern = re.compile(r'[\\w._%+-]+@[\\w\\.-]+\\.[a-zA-Z]{2,4}')\n",
        "txt = 'Contact kami di admin@thenextyunikorn.id, sales@yunikornbaru.com, atau hrd@yunikornindo.id'\n",
        "\n"
      ]
    },
    {
      "cell_type": "code",
      "source": [
        "txt"
      ],
      "metadata": {
        "colab": {
          "base_uri": "https://localhost:8080/",
          "height": 36
        },
        "id": "8tohi4k44f33",
        "outputId": "f7a9def0-035e-4d2d-970c-26de58b68fe4"
      },
      "execution_count": 205,
      "outputs": [
        {
          "output_type": "execute_result",
          "data": {
            "text/plain": [
              "'Contact kami di admin@thenextyunikorn.id, sales@yunikornbaru.com, atau hrd@yunikornindo.id'"
            ],
            "application/vnd.google.colaboratory.intrinsic+json": {
              "type": "string"
            }
          },
          "metadata": {},
          "execution_count": 205
        }
      ]
    },
    {
      "cell_type": "markdown",
      "source": [
        "### Pola Email"
      ],
      "metadata": {
        "id": "eL7ag9IU5UEt"
      }
    },
    {
      "cell_type": "code",
      "source": [
        "# Menghapus Email dalam teks\n",
        "print( re.sub(email_pattern, ' ', txt))"
      ],
      "metadata": {
        "colab": {
          "base_uri": "https://localhost:8080/"
        },
        "id": "dz1D6cCR5NsP",
        "outputId": "7b5d8a94-95ef-45cd-a909-1200377c3caa"
      },
      "execution_count": 206,
      "outputs": [
        {
          "output_type": "stream",
          "name": "stdout",
          "text": [
            "Contact kami di  ,  , atau  \n"
          ]
        }
      ]
    },
    {
      "cell_type": "code",
      "source": [
        "# Mengambil email dari teks berdasarkan pola regex yang ditentukan\n",
        "emails = re.findall(email_pattern, txt)\n",
        "print( 'Email yang ditemukan: ', emails)"
      ],
      "metadata": {
        "colab": {
          "base_uri": "https://localhost:8080/"
        },
        "id": "0hgD0Vj25XKP",
        "outputId": "f77cc989-6fa8-4647-9125-14b91291e960"
      },
      "execution_count": 207,
      "outputs": [
        {
          "output_type": "stream",
          "name": "stdout",
          "text": [
            "Email yang ditemukan:  ['admin@thenextyunikorn.id', 'sales@yunikornbaru.com', 'hrd@yunikornindo.id']\n"
          ]
        }
      ]
    },
    {
      "cell_type": "markdown",
      "source": [
        "### Pola Nomor Telepon"
      ],
      "metadata": {
        "id": "EftUKvWl5iwt"
      }
    },
    {
      "cell_type": "code",
      "source": [
        "# Pola telephone : \\d penanda angka di reguler Expression, \\s spasi, dan \"|\" adalah \"atau\"\n",
        "# \"?\" menyatakan pilihan (optional)\n",
        "phone_pattern = re.compile(r'(\\d{3}[-\\.\\s]??\\d{3}[-\\.\\s]??\\d{4,6}|\\(\\d{3}\\)\\s*\\d{3}[-\\.\\s]??\\d{4,6}|\\d{3,4}[-\\.\\s]??\\d{4,6})')\n",
        "txt = 'Contact kami di 021-7632456 atau 021-443-4162 atau 021 797 4524 atau 0822959020 atau +628199258643'"
      ],
      "metadata": {
        "id": "5uLcON-Z5Z3X"
      },
      "execution_count": 208,
      "outputs": []
    },
    {
      "cell_type": "code",
      "source": [
        "# Sensor *** untuk pola Nomor Telepon\n",
        "print(re.sub(phone_pattern,'***',txt))"
      ],
      "metadata": {
        "colab": {
          "base_uri": "https://localhost:8080/"
        },
        "id": "I3EyrkQJ5lyt",
        "outputId": "91d45d24-eb57-4851-85e7-29ea5a63cdd6"
      },
      "execution_count": 209,
      "outputs": [
        {
          "output_type": "stream",
          "name": "stdout",
          "text": [
            "Contact kami di *** atau *** atau *** atau *** atau +***\n"
          ]
        }
      ]
    },
    {
      "cell_type": "code",
      "source": [
        "# Mengambil nomor telepon dari teks berdasarkan pola regex yang telah ditentukan\n",
        "phone_numbers = re.findall(phone_pattern,txt)\n",
        "print('Nomer telephone yang ditemukan: ', str(phone_numbers))"
      ],
      "metadata": {
        "colab": {
          "base_uri": "https://localhost:8080/"
        },
        "id": "7JRvMScm5ocU",
        "outputId": "57c5402a-c28b-4939-c950-075ad3147c87"
      },
      "execution_count": 210,
      "outputs": [
        {
          "output_type": "stream",
          "name": "stdout",
          "text": [
            "Nomer telephone yang ditemukan:  ['021-7632456', '021-443-4162', '021 797 4524', '0822959020', '628199258643']\n"
          ]
        }
      ]
    },
    {
      "cell_type": "markdown",
      "source": [
        "###Pola URL atau Link"
      ],
      "metadata": {
        "id": "QX0TdMCy51Jo"
      }
    },
    {
      "cell_type": "code",
      "source": [
        "# Website URL http(s)\n",
        "url_pattern = re.compile(r'www|http:|https:+[^\\s]+[\\w]')\n",
        "txt = 'Teman teman dapat mengunjungi link berikut untuk sumber belajar: https://www.regular-expressions.info/ atau https://www.towardsdatascience.com atau https://wikipedia.org'\n"
      ],
      "metadata": {
        "id": "h4RUWsQ-5wvM"
      },
      "execution_count": 211,
      "outputs": []
    },
    {
      "cell_type": "code",
      "source": [
        "# Menghapus url pada teks\n",
        "print(re.sub(url_pattern,' ',txt))"
      ],
      "metadata": {
        "colab": {
          "base_uri": "https://localhost:8080/"
        },
        "id": "6VPaWUE856EM",
        "outputId": "ca313043-6a58-4a09-f85e-20fca01b8ddd"
      },
      "execution_count": 212,
      "outputs": [
        {
          "output_type": "stream",
          "name": "stdout",
          "text": [
            "Teman teman dapat mengunjungi link berikut untuk sumber belajar:  / atau   atau  \n"
          ]
        }
      ]
    },
    {
      "cell_type": "code",
      "source": [
        "# Mengambil url dari teks berdasarkan pola regex yang telah ditentukan\n",
        "urls = re.findall(url_pattern,txt)# get urls\n",
        "print('URL yang ditemukan: ',str(urls))"
      ],
      "metadata": {
        "colab": {
          "base_uri": "https://localhost:8080/"
        },
        "id": "dNG7stdk58W4",
        "outputId": "15c69076-4082-4f65-ef28-891e44ec2236"
      },
      "execution_count": 213,
      "outputs": [
        {
          "output_type": "stream",
          "name": "stdout",
          "text": [
            "URL yang ditemukan:  ['https://www.regular-expressions.info', 'https://www.towardsdatascience.com', 'https://wikipedia.org']\n"
          ]
        }
      ]
    },
    {
      "cell_type": "markdown",
      "source": [
        "### Pola Plat Kendaraan Bermotor"
      ],
      "metadata": {
        "id": "LNiEbH3S6CN7"
      }
    },
    {
      "cell_type": "code",
      "source": [
        "plat_pattern = re.compile(r'[A-Z]{1,2}\\s\\d{1,4}\\s[A-Z]{1,3}')\n",
        "text = \"Mr.X punya 2 motor dan 1 mobil. Adapun plat nomornya yaitu B 234 AA, C 3244 YGS, dan D 3 S.\""
      ],
      "metadata": {
        "id": "s4QddXbx5-iJ"
      },
      "execution_count": 214,
      "outputs": []
    },
    {
      "cell_type": "code",
      "source": [
        "# Menghapus plat kendaraan pada teks\n",
        "print(re.sub(plat_pattern, ' ', text))"
      ],
      "metadata": {
        "colab": {
          "base_uri": "https://localhost:8080/"
        },
        "id": "OFNIAGqK6GD_",
        "outputId": "fda80f2c-10a0-4339-8c06-d09c4f807cce"
      },
      "execution_count": 215,
      "outputs": [
        {
          "output_type": "stream",
          "name": "stdout",
          "text": [
            "Mr.X punya 2 motor dan 1 mobil. Adapun plat nomornya yaitu  ,  , dan  .\n"
          ]
        }
      ]
    },
    {
      "cell_type": "code",
      "source": [
        "kumpulan_plat_kendaraan = re.findall(plat_pattern, text)\n",
        "print(kumpulan_plat_kendaraan)"
      ],
      "metadata": {
        "colab": {
          "base_uri": "https://localhost:8080/"
        },
        "id": "hKLvdOf86Ia0",
        "outputId": "81200481-e37d-4049-b9e3-a907aba4417c"
      },
      "execution_count": 216,
      "outputs": [
        {
          "output_type": "stream",
          "name": "stdout",
          "text": [
            "['B 234 AA', 'C 3244 YGS', 'D 3 S']\n"
          ]
        }
      ]
    },
    {
      "cell_type": "markdown",
      "source": [
        "### Menghilangkan Karakter Khusus"
      ],
      "metadata": {
        "id": "dko-Vzwk6RmO"
      }
    },
    {
      "cell_type": "code",
      "source": [
        "text = \"Halo @Orbit, apa kabar? #SapaKawan.\"\n",
        "result = re.sub(r'[@,.?#]', '', text)\n",
        "print(result)"
      ],
      "metadata": {
        "colab": {
          "base_uri": "https://localhost:8080/"
        },
        "id": "cQx-_U-m6LLV",
        "outputId": "b3de67a1-1115-4109-8fa3-70200a7c0c9f"
      },
      "execution_count": 217,
      "outputs": [
        {
          "output_type": "stream",
          "name": "stdout",
          "text": [
            "Halo Orbit apa kabar SapaKawan\n"
          ]
        }
      ]
    },
    {
      "cell_type": "markdown",
      "source": [
        "## Self-Activity 1\n",
        "**TEXT:**\n",
        "> Halo semua, namaku Andy Joe. Kemarin smartphoneku mendapat SMS tagihan Pinjaman Online dari nomor 08004398499. Selain itu emailku juga mendapatkan pesan serupa dari debtcollector@pinjolninuninu.com. Ternyata salah satu temanku menjadikan nomor telepon dan emailku sebagai penanggungjawab pinjaman onlinenya :(. Tak lama sosok pria berbadan bongsor datang ke rumahku dengan menggunakan mogenya. Ia menanyakan keberadaan temanku yang meminjam uang di perusahaan Pinjol tersebut. Aku yang tak tahu keberadaannya pun menjawab apa adanya. Tak lama kemudian pria tersebut pergi dan segera kuambil gambar mogenya dengan  plat PO 3030 AY. Setelah itu aku menghubungi temanku dan meminta penjelasan kepadanya.\n",
        ">\n",
        "---\n",
        "### Buatlah format pesan kepada teman Andy Joe untuk meminta penjelasan terkait dengan situasi yang sedang terjadi. (ganti teks yang cetak miring dan tebal menjadi nomor debtcollector, email debtcollector dan plat nomor)\n",
        ">\n",
        "\n",
        "**Format Pesan:**\n",
        "> \"*Halo xxxxx, Aku tadi habis didatangi debtcollector. Dia mengirimiku pesan lewat nomornya yaitu **nomor_debtcollector** dan email **email_debtcollector**. Dia bilang kamu jadiin nomorku dan emailku sebagai penanggungjawab. Bisa tolong jelasin? Terus aku tadi juga sempet foto motor yg dipake mas debtcollector. Plat nomornya **plat_nomor_debtcollector**.*\""
      ],
      "metadata": {
        "id": "xvvlUt1l6vu6"
      }
    },
    {
      "cell_type": "markdown",
      "source": [
        "## Self-Activity 2\n",
        "1. Buat Webscraping dan Crawling dari website berbeda selain warstek\n",
        "2. lakukan RegEx dari hasil Scraping\n",
        "3. visualisasikan kedalam dataframe dari hasil webscraping dan crawling\n",
        "4. Buat Data JSON untuk Chatbot resep makanan khas daerah teman-teman"
      ],
      "metadata": {
        "id": "JXuTglwVH1FC"
      }
    },
    {
      "cell_type": "code",
      "source": [
        "import re\n",
        "import pandas as pd #untuk visualisasi"
      ],
      "metadata": {
        "id": "LlpVrCjvX3qq"
      },
      "execution_count": 218,
      "outputs": []
    },
    {
      "cell_type": "code",
      "source": [
        "#Pola Nomor \n",
        "phone_pattern = re.compile(r'(\\d{3}[-\\.\\s]??\\d{3}[-\\.\\s]??\\d{4,6}|\\(\\d{3}\\)\\s*\\d{3}[-\\.\\s]??\\d{4,6}|\\d{3,4}[-\\.\\s]??\\d{4,6})')\n",
        "txt = 'Kemarin smartphoneku mendapat SMS tagihan Pinjaman Online dari nomor 0895379239450'"
      ],
      "metadata": {
        "id": "kcfx3V6gYAiS"
      },
      "execution_count": 219,
      "outputs": []
    },
    {
      "cell_type": "code",
      "source": [
        "phone_numbers = re.findall(phone_pattern,txt)\n",
        "print('Nomer telephone yang ditemukan: ', str(phone_numbers))"
      ],
      "metadata": {
        "colab": {
          "base_uri": "https://localhost:8080/"
        },
        "id": "QZ43HGIyYPtE",
        "outputId": "a5d57bf2-5a55-434a-a93f-aae0e107a714"
      },
      "execution_count": 220,
      "outputs": [
        {
          "output_type": "stream",
          "name": "stdout",
          "text": [
            "Nomer telephone yang ditemukan:  ['089537923945']\n"
          ]
        }
      ]
    },
    {
      "cell_type": "code",
      "source": [
        "#Pola Email\n",
        "email_pattern = re.compile(r'[\\w._%+-]+@[\\w\\.-]+\\.[a-zA-Z]{2,4}')\n",
        "txt = 'Selain itu emailku juga mendapatkan pesan serupa dari debtcollector@pinjolninuninu.com.'"
      ],
      "metadata": {
        "id": "TOqSLkgVYbF-"
      },
      "execution_count": 221,
      "outputs": []
    },
    {
      "cell_type": "code",
      "source": [
        "emails = re.findall(email_pattern, txt)\n",
        "print( 'Email yang ditemukan: ', emails)"
      ],
      "metadata": {
        "colab": {
          "base_uri": "https://localhost:8080/"
        },
        "id": "R1KKSmCKYlaT",
        "outputId": "9a58c2d3-e128-4b23-90a8-04ceeac9bba3"
      },
      "execution_count": 222,
      "outputs": [
        {
          "output_type": "stream",
          "name": "stdout",
          "text": [
            "Email yang ditemukan:  ['debtcollector@pinjolninuninu.com']\n"
          ]
        }
      ]
    },
    {
      "cell_type": "code",
      "source": [
        "#Pola Plat Nomor\n",
        "plat_pattern = re.compile(r'[A-Z]{1,2}\\s\\d{1,4}\\s[A-Z]{1,3}')\n",
        "txt = 'Tak lama kemudian pria tersebut pergi dan segera kuambil gambar mogenya dengan plat PO 3030 AY.'"
      ],
      "metadata": {
        "id": "8DWEU1RLYnxi"
      },
      "execution_count": 223,
      "outputs": []
    },
    {
      "cell_type": "code",
      "source": [
        "plat_nomor = re.findall(plat_pattern, txt)\n",
        "print(plat_nomor)"
      ],
      "metadata": {
        "colab": {
          "base_uri": "https://localhost:8080/"
        },
        "id": "tGLL4VZXYwuN",
        "outputId": "e9900f18-9178-4764-825e-f837a83e9c61"
      },
      "execution_count": 224,
      "outputs": [
        {
          "output_type": "stream",
          "name": "stdout",
          "text": [
            "['PO 3030 AY']\n"
          ]
        }
      ]
    },
    {
      "cell_type": "code",
      "source": [
        "print('Halo xxxxx, Aku tadi habis didatangi debtcollector. Dia mengirimiku pesan lewat nomornya yaitu',phone_numbers,'dan email\\n',emails,'.',\n",
        "      'Dia bilang kamu jadiin nomorku dan emailku sebagai penanggungjawab. Bisa tolong jelasin? Terus aku tadi\\n',\n",
        "      'juga sempet foto motor yg dipake mas debtcollector. Plat nomornya',plat_nomor) "
      ],
      "metadata": {
        "colab": {
          "base_uri": "https://localhost:8080/"
        },
        "id": "oxRLG4MVY5mh",
        "outputId": "898e2d99-6f02-43b5-81a0-8b3eae5dd181"
      },
      "execution_count": 225,
      "outputs": [
        {
          "output_type": "stream",
          "name": "stdout",
          "text": [
            "Halo xxxxx, Aku tadi habis didatangi debtcollector. Dia mengirimiku pesan lewat nomornya yaitu ['089537923945'] dan email\n",
            " ['debtcollector@pinjolninuninu.com'] . Dia bilang kamu jadiin nomorku dan emailku sebagai penanggungjawab. Bisa tolong jelasin? Terus aku tadi\n",
            " juga sempet foto motor yg dipake mas debtcollector. Plat nomornya ['PO 3030 AY']\n"
          ]
        }
      ]
    },
    {
      "cell_type": "markdown",
      "source": [
        "# WEB SCRAPING"
      ],
      "metadata": {
        "id": "6s8k6K2I0R1M"
      }
    },
    {
      "cell_type": "code",
      "execution_count": 226,
      "metadata": {
        "id": "c5xOYBIh-pz1"
      },
      "outputs": [],
      "source": [
        "import requests\n",
        "from bs4 import BeautifulSoup"
      ]
    },
    {
      "cell_type": "code",
      "source": [
        "result = requests.get(\"https://rumaysho.com/34855-mengenal-seluk-beluk-surah-al-fatihah-faedah-dari-imam-ibnu-katsir.html\")"
      ],
      "metadata": {
        "id": "0O2b_vid2rgw"
      },
      "execution_count": 227,
      "outputs": []
    },
    {
      "cell_type": "code",
      "source": [
        "print(type(result))"
      ],
      "metadata": {
        "colab": {
          "base_uri": "https://localhost:8080/"
        },
        "id": "vY0Q26oF3PSN",
        "outputId": "a76f51f8-2318-45c0-9740-3204475f099f"
      },
      "execution_count": 228,
      "outputs": [
        {
          "output_type": "stream",
          "name": "stdout",
          "text": [
            "<class 'requests.models.Response'>\n"
          ]
        }
      ]
    },
    {
      "cell_type": "code",
      "source": [
        "# Mengubah Encoding menjadi utf-8 | Jika tidak dikonversi ke utf-8 untuk karakter khusus \n",
        "# seperti \",'/- dll akan menjadi karakter yang sulit dipahami\n",
        "result.encoding = result.apparent_encoding\n",
        "result.encoding"
      ],
      "metadata": {
        "colab": {
          "base_uri": "https://localhost:8080/",
          "height": 36
        },
        "id": "G9-EEzVj3SkQ",
        "outputId": "aec46ae2-6f29-48bf-e0bc-4c5aeb23ddac"
      },
      "execution_count": 229,
      "outputs": [
        {
          "output_type": "execute_result",
          "data": {
            "text/plain": [
              "'utf-8'"
            ],
            "application/vnd.google.colaboratory.intrinsic+json": {
              "type": "string"
            }
          },
          "metadata": {},
          "execution_count": 229
        }
      ]
    },
    {
      "cell_type": "code",
      "source": [
        "wp = BeautifulSoup(result.text, \"html.parser\")"
      ],
      "metadata": {
        "id": "tYAayImS3ieh"
      },
      "execution_count": 230,
      "outputs": []
    },
    {
      "cell_type": "code",
      "source": [
        "# Mengambil bagian html dengan tag p paling awal (paragraph)\n",
        "wp.find(\"p\")"
      ],
      "metadata": {
        "colab": {
          "base_uri": "https://localhost:8080/"
        },
        "id": "DsjRmbLB3kok",
        "outputId": "c83e41de-f22b-4e04-ed48-8d749d417093"
      },
      "execution_count": 231,
      "outputs": [
        {
          "output_type": "execute_result",
          "data": {
            "text/plain": [
              "<p>Apa saja di balik surah Al-Fatihah?</p>"
            ]
          },
          "metadata": {},
          "execution_count": 231
        }
      ]
    },
    {
      "cell_type": "code",
      "source": [
        "# Mengambil bagian html dengan tag p paling awal, tapi hanya value-nya saja.\n",
        "wp.find(\"p\").getText()"
      ],
      "metadata": {
        "colab": {
          "base_uri": "https://localhost:8080/",
          "height": 36
        },
        "id": "CfsLylei3xfu",
        "outputId": "5757d7d9-e68d-49e7-8718-bd48403742f9"
      },
      "execution_count": 232,
      "outputs": [
        {
          "output_type": "execute_result",
          "data": {
            "text/plain": [
              "'Apa saja di balik surah Al-Fatihah?'"
            ],
            "application/vnd.google.colaboratory.intrinsic+json": {
              "type": "string"
            }
          },
          "metadata": {},
          "execution_count": 232
        }
      ]
    },
    {
      "cell_type": "code",
      "source": [
        "wp.find(\"p\").getText()"
      ],
      "metadata": {
        "colab": {
          "base_uri": "https://localhost:8080/",
          "height": 36
        },
        "id": "b9_LIo6L3ze5",
        "outputId": "98006953-c771-467c-8fa6-6fe2666724b0"
      },
      "execution_count": 233,
      "outputs": [
        {
          "output_type": "execute_result",
          "data": {
            "text/plain": [
              "'Apa saja di balik surah Al-Fatihah?'"
            ],
            "application/vnd.google.colaboratory.intrinsic+json": {
              "type": "string"
            }
          },
          "metadata": {},
          "execution_count": 233
        }
      ]
    },
    {
      "cell_type": "code",
      "source": [
        "# Mengambil bagian html dengan tag p (secara keseluruhan)\n",
        "wp.find_all(\"p\")"
      ],
      "metadata": {
        "colab": {
          "base_uri": "https://localhost:8080/"
        },
        "id": "lnPrkPfR314I",
        "outputId": "d46263f0-9753-480b-9a4b-e0bb71f16514"
      },
      "execution_count": 234,
      "outputs": [
        {
          "output_type": "execute_result",
          "data": {
            "text/plain": [
              "[<p>Apa saja di balik surah Al-Fatihah?</p>,\n",
              " <p>Beberapa catatan mengenai surah Al-Fatihah, Rumaysho.Com berusaha membuat ringkasan dari bahasan ulama besar yaitu <strong>Imam Ibnu Katsir</strong> dalam kitab tafsirnya, <em>Tafsir Al-Qur’an Al-‘Azhim.</em> Ada catatan tambahan yang diambil dari penjelasan Syaikh Musthafa Al-‘Adawi dalam <em>At-Tashiil li Ta’wil At-Tanziil – Suurah Al-Baqarah fii Sual wa Jawab.</em></p>,\n",
              " <p> </p>,\n",
              " <p>Al-Fatihah disebut dengan:</p>,\n",
              " <p>1. Al-Fatihah, yaitu Fatihatul Kitab secara tertulis dan juga sebagai pembuka dalam shalat.</p>,\n",
              " <p>2. Ummul Kitab, karena tiga maksud: (1) mushaf dimulai dengan Al-Fatihah, (2) bacaan surah dalam shalat dimulai dengan Al-Fatihah, (3) seluruh makna Al-Qur’an merujuk pada kandungan surah Al-Fatihah.</p>,\n",
              " <p>3. Ummul Qur’an.</p>,\n",
              " <p>4. As-Sab’ul Matsaani, matsaani artinya berulang-ulang, maksudnya surah Al-Fatihah dibaca berulang kali setiap rakaat.</p>,\n",
              " <p>5. Al-Qur’an Al-‘Azhim</p>,\n",
              " <p>6. Alhamdulillahi robbil ‘aalamiin</p>,\n",
              " <p>7. Alhamdu</p>,\n",
              " <p>8. Ash-Shalah, karena syarat sah shalat adalah membaca surah Al-Fatihah. Disebut juga Surah Ash-Shalah.</p>,\n",
              " <p>9. Asy-Syifaa’ (penawar), dalam hadits disebutkan, faatihatul kitaab syifaa’un min kulli sammin, artinya Al-Fatihah itu penawar dari segala macam racun.</p>,\n",
              " <p>10. Ar-Ruqyah, karena pernah Nabi shallallahu ‘alaihi wa sallam katakan surah Al-Fatihah sebagi ruqyah.</p>,\n",
              " <p>11. Asaasul qur’an, sebagaimana disebutkan oleh Ibnu ‘Abbas.</p>,\n",
              " <p>12. Al-Waaqiyah (pelindung, pencegah), sebagaimana disebutkan oleh Sufyan Ibnu ‘Uyainah.</p>,\n",
              " <p>13. Al-Kaafiyah (yang mencukupi dari lainnya, tanpa adanya surah Al-Fatihah yang lainnya tidak mencukupi), sebagaimana disebutkan oleh Yahya bin Abi Katsir (yang tepat: ‘Abdullah bin Yahya bin Abi Katsir).</p>,\n",
              " <p>14. Surah Al-Kanzi, artinya surah simpanan.</p>,\n",
              " <p> </p>,\n",
              " <p>Kata Syaikh Musthafa Al-‘Adawi, surah Al-Fatihah termasuk surah Makkiyah menurut pendapat yang lebih kuat. Di antara alasan yang dikemukakan oleh beliau, kewajiban shalat itu di Makkah. Padahal Nabi <em>shallallahu ‘alaihi wa sallam</em> menyatakan,</p>,\n",
              " <p style=\"font-weight: 400; text-align: center;\"><span style=\"font-size: 18pt;\">لاَ صَلاَةَ لِمَنْ لَمْ يَقْرَأْ بِفَاتِحَةِ الْكِتَابِ</span></p>,\n",
              " <p>“<em>Tidak ada shalat bagi orang yang tidak membaca Al-Fatihah.” </em>(HR. Bukhari, no. 756 dan Muslim, no. 394)<em><br/>\n",
              " </em></p>,\n",
              " <p> </p>,\n",
              " <p>– Surah Al-Fatihah terdiri dari tujuh ayat tanpa adanya ikhtilaf.<br/>\n",
              " – Para ulama berselisih pendapat apakah basmalah itu bagian dari Al-Fatihah ataukah bukan, ataukah basmalah adalah ayat tersendiri.<br/>\n",
              " – Ada yang mengatakan bahwa jumlah kata (al-kalimah) dalam Al-Fatihah adalah 25 kata. Jumlah hurufnya adalah 113 huruf. Dalam kitab lain disebutkan jumlah hurufnya adalah 156 (termasuk di dalamnya adalah basmalah, tasydid, dan alif pada Maalik).</p>,\n",
              " <p><strong><span style=\"font-size: 14pt;\">Baca juga: <a href=\"https://rumaysho.com/tag/tafsir-al-fatihah\" rel=\"noopener\" target=\"_blank\"><span style=\"color: #ff0000;\">Tafsir Surah Al-Fatihah</span></a></span></strong></p>,\n",
              " <p> </p>,\n",
              " <p>Inilah pendapat jumhur ulama dari Imam Malik, Imam Syafii, Imam Ahmad bin Hambal dan pengikutnya.</p>,\n",
              " <p>Dari ‘Ubadah bin Ash-Shoomit <em>radhiyallahu ‘anhu,</em> Rasulullah <em>shallallahu ‘alaihi wa sallam</em> bersabda,</p>,\n",
              " <p style=\"font-weight: 400; text-align: center;\"><span style=\"font-size: 18pt;\">لاَ صَلاَةَ لِمَنْ لَمْ يَقْرَأْ بِفَاتِحَةِ الْكِتَابِ</span></p>,\n",
              " <p>“<em>Tidak ada shalat bagi orang yang tidak membaca Al-Fatihah”</em>. (HR. Bukhari, no. 756 dan Muslim, no. 394)</p>,\n",
              " <p>Dari Abu Hurairah <em>radhiyallahu ‘anhu</em>, haditsnya marfu’ sampai pada Nabi <em>shallallahu ‘alaihi wa sallam</em>,</p>,\n",
              " <p style=\"font-weight: 400; text-align: center;\"><span style=\"font-size: 18pt;\">مَنْ صَلَّى صَلاَةً لَمْ يَقْرَأْ فِيهَا بِفَاتِحَةِ الْكِتَابِ فَهْىَ خِدَاجٌ</span></p>,\n",
              " <p>“Barangsiapa yang melaksanakan shalat dan tidak membaca Al Fatihah di dalamnya, maka shalatnya itu kurang.” Perkataan ini diulang sampai tiga kali. (HR. Muslim, no. 395)</p>,\n",
              " <p> </p>,\n",
              " <p>Madzhab Syafii dan mayoritas ulama menganggap bahwa surah Al-Fatihah wajib dibaca setiap rakaat.</p>,\n",
              " <p><strong><span style=\"font-size: 14pt;\">Baca juga:<a href=\"https://rumaysho.com/14810-mulailah-dengan-bismillah.html\" rel=\"noopener\" target=\"_blank\"><span style=\"color: #ff0000;\"> Seputar Membaca Bismillah</span></a></span></strong></p>,\n",
              " <p> </p>,\n",
              " <p>Ada tiga pendapat dalam hal ini:</p>,\n",
              " <p>1. Makmum tetap wajib baca sebagaimana imam karena konsekuensi dari keumuman hadits</p>,\n",
              " <p>2. Makmuk tidak perlu membaca sama sekali.</p>,\n",
              " <p>3. Dalam shalat sirriyyah, makmum wajib membaca dan tidak wajib membaca dalam shalat jahriyyah. Karena ada hadits yang menyebutkan bahwa jika imam baca, maka diamlah.</p>,\n",
              " <p><strong><span style=\"font-size: 14pt;\">Baca juga: <span style=\"color: #ff0000;\"><a href=\"https://rumaysho.com/30925-bulughul-maram-shalat-apakah-makmum-diperintahkan-membaca-surah-al-fatihah-ataukah-cukup-imam.html\" rel=\"noopener\" style=\"color: #ff0000;\" target=\"_blank\">Pendapat Terkuat, Apakah Makmum Diperintahkan Membaca Surah Al-Fatihah ataukah Cukup Imam?</a></span></span></strong></p>,\n",
              " <p> </p>,\n",
              " <p> </p>,\n",
              " <p class=\"comment-notes\"><span id=\"email-notes\">Your email address will not be published.</span> <span aria-hidden=\"true\" class=\"required-field-message\">Required fields are marked <span aria-hidden=\"true\" class=\"required\">*</span></span></p>,\n",
              " <p class=\"comment-form-comment\"><label for=\"comment\">Comment <span aria-hidden=\"true\" class=\"required\">*</span></label> <textarea cols=\"45\" id=\"comment\" maxlength=\"65525\" name=\"comment\" required=\"\" rows=\"8\"></textarea></p>,\n",
              " <p class=\"comment-form-author\"><label for=\"author\">Name <span aria-hidden=\"true\" class=\"required\">*</span></label> <input id=\"author\" maxlength=\"245\" name=\"author\" required=\"\" size=\"30\" type=\"text\" value=\"\"/></p>,\n",
              " <p class=\"comment-form-email\"><label for=\"email\">Email <span aria-hidden=\"true\" class=\"required\">*</span></label> <input aria-describedby=\"email-notes\" id=\"email\" maxlength=\"100\" name=\"email\" required=\"\" size=\"30\" type=\"email\" value=\"\"/></p>,\n",
              " <p class=\"comment-form-url\"><label for=\"url\">Website</label> <input id=\"url\" maxlength=\"200\" name=\"url\" size=\"30\" type=\"url\" value=\"\"/></p>,\n",
              " <p class=\"form-submit\"><input class=\"submit\" id=\"submit\" name=\"submit\" type=\"submit\" value=\"Post Comment\"/> <input id=\"comment_post_ID\" name=\"comment_post_ID\" type=\"hidden\" value=\"34855\"/>\n",
              " <input id=\"comment_parent\" name=\"comment_parent\" type=\"hidden\" value=\"0\"/>\n",
              " </p>,\n",
              " <p>Semoga kita termasuk orang-orang yang bersabar ketika menghadapi musibah, baik dengan hati lisan atau pun anggota b… <a href=\"https://t.co/M242pgozc0\" rel=\"nofollow noopener\" target=\"_blank\">https://t.co/M242pgozc0</a></p>,\n",
              " <p>... Imam Malik yang dibuat telanjang kemudian dicambuk dan tangannya ditarik sehingga lepaslah bahunya, begitu juga… <a href=\"https://t.co/Nd9OWdRcM9\" rel=\"nofollow noopener\" target=\"_blank\">https://t.co/Nd9OWdRcM9</a></p>,\n",
              " <p>... Tidakkah kita melihat mengenai kisah disembelihnya Nabi Allah Yahya bin Zakariya, terbunuhnya tiga Khulafa’ur R… <a href=\"https://t.co/fBYMfXWh9A\" rel=\"nofollow noopener\" target=\"_blank\">https://t.co/fBYMfXWh9A</a></p>,\n",
              " <p>Wa'alaikumussalam wa rahmatullah wa barakatuh. semoga ada ke...</p>,\n",
              " <p>Assalamualaikum warahmatullah wabarakatuh ustadz. Kiranya us...</p>,\n",
              " <p>assalamu'alaikum. perang badar ini bagi sebagian kalangan di...</p>,\n",
              " <p>kalau bisa cari yg aman dari sesajen...</p>,\n",
              " <p>Ijin bertanya Ustdaz, Bagaimana hukum mengontrak rumah di Ba...</p>]"
            ]
          },
          "metadata": {},
          "execution_count": 234
        }
      ]
    },
    {
      "cell_type": "code",
      "source": [
        "#lengkapilah! sesuai kode diatas!\n",
        "full_text = []\n",
        "for paragraf in wp.find_all('p'):\n",
        "  full_text.append(paragraf.getText())\n",
        "\n",
        "full_text"
      ],
      "metadata": {
        "colab": {
          "base_uri": "https://localhost:8080/"
        },
        "id": "W4HjeLCE332b",
        "outputId": "a069d355-622f-45a1-a7d3-b8b03187039d"
      },
      "execution_count": 235,
      "outputs": [
        {
          "output_type": "execute_result",
          "data": {
            "text/plain": [
              "['Apa saja di balik surah Al-Fatihah?',\n",
              " 'Beberapa catatan mengenai surah Al-Fatihah, Rumaysho.Com berusaha membuat ringkasan dari bahasan ulama besar yaitu Imam Ibnu Katsir dalam kitab tafsirnya, Tafsir Al-Qur’an Al-‘Azhim. Ada catatan tambahan yang diambil dari penjelasan Syaikh Musthafa Al-‘Adawi dalam At-Tashiil li Ta’wil At-Tanziil – Suurah Al-Baqarah fii Sual wa Jawab.',\n",
              " '\\xa0',\n",
              " 'Al-Fatihah disebut dengan:',\n",
              " '1. Al-Fatihah, yaitu Fatihatul Kitab secara tertulis dan juga sebagai pembuka dalam shalat.',\n",
              " '2. Ummul Kitab, karena tiga maksud: (1) mushaf dimulai dengan Al-Fatihah, (2) bacaan surah dalam shalat dimulai dengan Al-Fatihah, (3) seluruh makna Al-Qur’an merujuk pada kandungan surah Al-Fatihah.',\n",
              " '3. Ummul Qur’an.',\n",
              " '4. As-Sab’ul Matsaani, matsaani artinya berulang-ulang, maksudnya surah Al-Fatihah dibaca berulang kali setiap rakaat.',\n",
              " '5. Al-Qur’an Al-‘Azhim',\n",
              " '6. Alhamdulillahi robbil ‘aalamiin',\n",
              " '7. Alhamdu',\n",
              " '8. Ash-Shalah, karena syarat sah shalat adalah membaca surah Al-Fatihah. Disebut juga Surah Ash-Shalah.',\n",
              " '9. Asy-Syifaa’ (penawar), dalam hadits disebutkan, faatihatul kitaab syifaa’un min kulli sammin, artinya Al-Fatihah itu penawar dari segala macam racun.',\n",
              " '10. Ar-Ruqyah, karena pernah Nabi shallallahu ‘alaihi wa sallam katakan surah Al-Fatihah sebagi ruqyah.',\n",
              " '11. Asaasul qur’an, sebagaimana disebutkan oleh Ibnu ‘Abbas.',\n",
              " '12. Al-Waaqiyah (pelindung, pencegah), sebagaimana disebutkan oleh Sufyan Ibnu ‘Uyainah.',\n",
              " '13. Al-Kaafiyah (yang mencukupi dari lainnya, tanpa adanya surah Al-Fatihah yang lainnya tidak mencukupi), sebagaimana disebutkan oleh Yahya bin Abi Katsir (yang tepat: ‘Abdullah bin Yahya bin Abi Katsir).',\n",
              " '14. Surah Al-Kanzi, artinya surah simpanan.',\n",
              " '\\xa0',\n",
              " 'Kata Syaikh Musthafa Al-‘Adawi, surah Al-Fatihah termasuk surah Makkiyah menurut pendapat yang lebih kuat. Di antara alasan yang dikemukakan oleh beliau, kewajiban shalat itu di Makkah. Padahal Nabi shallallahu ‘alaihi wa sallam menyatakan,',\n",
              " 'لاَ صَلاَةَ لِمَنْ لَمْ يَقْرَأْ بِفَاتِحَةِ الْكِتَابِ',\n",
              " '“Tidak ada shalat bagi orang yang tidak membaca Al-Fatihah.” (HR. Bukhari, no. 756 dan Muslim, no. 394)\\n',\n",
              " '\\xa0',\n",
              " '– Surah Al-Fatihah terdiri dari tujuh ayat tanpa adanya ikhtilaf.\\n– Para ulama berselisih pendapat apakah basmalah itu bagian dari Al-Fatihah ataukah bukan, ataukah basmalah adalah ayat tersendiri.\\n– Ada yang mengatakan bahwa jumlah kata (al-kalimah) dalam Al-Fatihah adalah 25 kata. Jumlah hurufnya adalah 113 huruf. Dalam kitab lain disebutkan jumlah hurufnya adalah 156 (termasuk di dalamnya adalah basmalah, tasydid, dan alif pada Maalik).',\n",
              " 'Baca juga: Tafsir Surah Al-Fatihah',\n",
              " '\\xa0',\n",
              " 'Inilah pendapat jumhur ulama dari Imam Malik, Imam Syafii, Imam Ahmad bin Hambal dan pengikutnya.',\n",
              " 'Dari ‘Ubadah bin Ash-Shoomit radhiyallahu ‘anhu, Rasulullah shallallahu ‘alaihi wa sallam bersabda,',\n",
              " 'لاَ صَلاَةَ لِمَنْ لَمْ يَقْرَأْ بِفَاتِحَةِ الْكِتَابِ',\n",
              " '“Tidak ada shalat bagi orang yang tidak membaca Al-Fatihah”. (HR. Bukhari, no. 756 dan Muslim, no. 394)',\n",
              " 'Dari Abu Hurairah radhiyallahu ‘anhu, haditsnya marfu’ sampai pada Nabi shallallahu ‘alaihi wa sallam,',\n",
              " 'مَنْ صَلَّى صَلاَةً لَمْ يَقْرَأْ فِيهَا بِفَاتِحَةِ الْكِتَابِ فَهْىَ خِدَاجٌ',\n",
              " '“Barangsiapa yang melaksanakan shalat dan tidak membaca Al Fatihah di dalamnya, maka shalatnya itu kurang.” Perkataan ini diulang sampai tiga kali. (HR. Muslim, no. 395)',\n",
              " '\\xa0',\n",
              " 'Madzhab Syafii dan mayoritas ulama menganggap bahwa surah Al-Fatihah wajib dibaca setiap rakaat.',\n",
              " 'Baca juga: Seputar Membaca Bismillah',\n",
              " '\\xa0',\n",
              " 'Ada tiga pendapat dalam hal ini:',\n",
              " '1. Makmum tetap wajib baca sebagaimana imam karena konsekuensi dari keumuman hadits',\n",
              " '2. Makmuk tidak perlu membaca sama sekali.',\n",
              " '3. Dalam shalat sirriyyah, makmum wajib membaca dan tidak wajib membaca dalam shalat jahriyyah.\\xa0Karena ada hadits yang menyebutkan bahwa jika imam baca, maka diamlah.',\n",
              " 'Baca juga: Pendapat Terkuat,\\xa0Apakah Makmum Diperintahkan Membaca Surah Al-Fatihah ataukah Cukup Imam?',\n",
              " '\\xa0',\n",
              " '\\xa0',\n",
              " 'Your email address will not be published. Required fields are marked *',\n",
              " 'Comment * ',\n",
              " 'Name * ',\n",
              " 'Email * ',\n",
              " 'Website ',\n",
              " ' \\n\\n',\n",
              " 'Semoga kita termasuk orang-orang yang bersabar ketika menghadapi musibah, baik dengan hati lisan atau pun anggota b… https://t.co/M242pgozc0',\n",
              " '... Imam Malik yang dibuat telanjang kemudian dicambuk dan tangannya ditarik sehingga lepaslah bahunya, begitu juga… https://t.co/Nd9OWdRcM9',\n",
              " '... Tidakkah kita melihat mengenai kisah disembelihnya Nabi Allah Yahya bin Zakariya, terbunuhnya tiga Khulafa’ur R… https://t.co/fBYMfXWh9A',\n",
              " \"Wa'alaikumussalam wa rahmatullah wa barakatuh. semoga ada ke...\",\n",
              " 'Assalamualaikum warahmatullah wabarakatuh ustadz. Kiranya us...',\n",
              " \"assalamu'alaikum. perang badar ini bagi sebagian kalangan di...\",\n",
              " 'kalau bisa cari yg aman dari sesajen...',\n",
              " 'Ijin bertanya Ustdaz, Bagaimana hukum mengontrak rumah di Ba...']"
            ]
          },
          "metadata": {},
          "execution_count": 235
        }
      ]
    },
    {
      "cell_type": "code",
      "source": [
        "# Menghapus None dari list full_text sekaligus membersihkan elemen list dari whitespace menggunakan fungsi strip()\n",
        "# List Comprehension\n",
        "full_text = [paragraf.strip() for paragraf in full_text if paragraf != \"\"]\n",
        "full_text"
      ],
      "metadata": {
        "colab": {
          "base_uri": "https://localhost:8080/"
        },
        "id": "MwtW8-jG374_",
        "outputId": "2fc3cbd9-2e03-4cfc-ca0f-57debc9e9831"
      },
      "execution_count": 236,
      "outputs": [
        {
          "output_type": "execute_result",
          "data": {
            "text/plain": [
              "['Apa saja di balik surah Al-Fatihah?',\n",
              " 'Beberapa catatan mengenai surah Al-Fatihah, Rumaysho.Com berusaha membuat ringkasan dari bahasan ulama besar yaitu Imam Ibnu Katsir dalam kitab tafsirnya, Tafsir Al-Qur’an Al-‘Azhim. Ada catatan tambahan yang diambil dari penjelasan Syaikh Musthafa Al-‘Adawi dalam At-Tashiil li Ta’wil At-Tanziil – Suurah Al-Baqarah fii Sual wa Jawab.',\n",
              " '',\n",
              " 'Al-Fatihah disebut dengan:',\n",
              " '1. Al-Fatihah, yaitu Fatihatul Kitab secara tertulis dan juga sebagai pembuka dalam shalat.',\n",
              " '2. Ummul Kitab, karena tiga maksud: (1) mushaf dimulai dengan Al-Fatihah, (2) bacaan surah dalam shalat dimulai dengan Al-Fatihah, (3) seluruh makna Al-Qur’an merujuk pada kandungan surah Al-Fatihah.',\n",
              " '3. Ummul Qur’an.',\n",
              " '4. As-Sab’ul Matsaani, matsaani artinya berulang-ulang, maksudnya surah Al-Fatihah dibaca berulang kali setiap rakaat.',\n",
              " '5. Al-Qur’an Al-‘Azhim',\n",
              " '6. Alhamdulillahi robbil ‘aalamiin',\n",
              " '7. Alhamdu',\n",
              " '8. Ash-Shalah, karena syarat sah shalat adalah membaca surah Al-Fatihah. Disebut juga Surah Ash-Shalah.',\n",
              " '9. Asy-Syifaa’ (penawar), dalam hadits disebutkan, faatihatul kitaab syifaa’un min kulli sammin, artinya Al-Fatihah itu penawar dari segala macam racun.',\n",
              " '10. Ar-Ruqyah, karena pernah Nabi shallallahu ‘alaihi wa sallam katakan surah Al-Fatihah sebagi ruqyah.',\n",
              " '11. Asaasul qur’an, sebagaimana disebutkan oleh Ibnu ‘Abbas.',\n",
              " '12. Al-Waaqiyah (pelindung, pencegah), sebagaimana disebutkan oleh Sufyan Ibnu ‘Uyainah.',\n",
              " '13. Al-Kaafiyah (yang mencukupi dari lainnya, tanpa adanya surah Al-Fatihah yang lainnya tidak mencukupi), sebagaimana disebutkan oleh Yahya bin Abi Katsir (yang tepat: ‘Abdullah bin Yahya bin Abi Katsir).',\n",
              " '14. Surah Al-Kanzi, artinya surah simpanan.',\n",
              " '',\n",
              " 'Kata Syaikh Musthafa Al-‘Adawi, surah Al-Fatihah termasuk surah Makkiyah menurut pendapat yang lebih kuat. Di antara alasan yang dikemukakan oleh beliau, kewajiban shalat itu di Makkah. Padahal Nabi shallallahu ‘alaihi wa sallam menyatakan,',\n",
              " 'لاَ صَلاَةَ لِمَنْ لَمْ يَقْرَأْ بِفَاتِحَةِ الْكِتَابِ',\n",
              " '“Tidak ada shalat bagi orang yang tidak membaca Al-Fatihah.” (HR. Bukhari, no. 756 dan Muslim, no. 394)',\n",
              " '',\n",
              " '– Surah Al-Fatihah terdiri dari tujuh ayat tanpa adanya ikhtilaf.\\n– Para ulama berselisih pendapat apakah basmalah itu bagian dari Al-Fatihah ataukah bukan, ataukah basmalah adalah ayat tersendiri.\\n– Ada yang mengatakan bahwa jumlah kata (al-kalimah) dalam Al-Fatihah adalah 25 kata. Jumlah hurufnya adalah 113 huruf. Dalam kitab lain disebutkan jumlah hurufnya adalah 156 (termasuk di dalamnya adalah basmalah, tasydid, dan alif pada Maalik).',\n",
              " 'Baca juga: Tafsir Surah Al-Fatihah',\n",
              " '',\n",
              " 'Inilah pendapat jumhur ulama dari Imam Malik, Imam Syafii, Imam Ahmad bin Hambal dan pengikutnya.',\n",
              " 'Dari ‘Ubadah bin Ash-Shoomit radhiyallahu ‘anhu, Rasulullah shallallahu ‘alaihi wa sallam bersabda,',\n",
              " 'لاَ صَلاَةَ لِمَنْ لَمْ يَقْرَأْ بِفَاتِحَةِ الْكِتَابِ',\n",
              " '“Tidak ada shalat bagi orang yang tidak membaca Al-Fatihah”. (HR. Bukhari, no. 756 dan Muslim, no. 394)',\n",
              " 'Dari Abu Hurairah radhiyallahu ‘anhu, haditsnya marfu’ sampai pada Nabi shallallahu ‘alaihi wa sallam,',\n",
              " 'مَنْ صَلَّى صَلاَةً لَمْ يَقْرَأْ فِيهَا بِفَاتِحَةِ الْكِتَابِ فَهْىَ خِدَاجٌ',\n",
              " '“Barangsiapa yang melaksanakan shalat dan tidak membaca Al Fatihah di dalamnya, maka shalatnya itu kurang.” Perkataan ini diulang sampai tiga kali. (HR. Muslim, no. 395)',\n",
              " '',\n",
              " 'Madzhab Syafii dan mayoritas ulama menganggap bahwa surah Al-Fatihah wajib dibaca setiap rakaat.',\n",
              " 'Baca juga: Seputar Membaca Bismillah',\n",
              " '',\n",
              " 'Ada tiga pendapat dalam hal ini:',\n",
              " '1. Makmum tetap wajib baca sebagaimana imam karena konsekuensi dari keumuman hadits',\n",
              " '2. Makmuk tidak perlu membaca sama sekali.',\n",
              " '3. Dalam shalat sirriyyah, makmum wajib membaca dan tidak wajib membaca dalam shalat jahriyyah.\\xa0Karena ada hadits yang menyebutkan bahwa jika imam baca, maka diamlah.',\n",
              " 'Baca juga: Pendapat Terkuat,\\xa0Apakah Makmum Diperintahkan Membaca Surah Al-Fatihah ataukah Cukup Imam?',\n",
              " '',\n",
              " '',\n",
              " 'Your email address will not be published. Required fields are marked *',\n",
              " 'Comment *',\n",
              " 'Name *',\n",
              " 'Email *',\n",
              " 'Website',\n",
              " '',\n",
              " 'Semoga kita termasuk orang-orang yang bersabar ketika menghadapi musibah, baik dengan hati lisan atau pun anggota b… https://t.co/M242pgozc0',\n",
              " '... Imam Malik yang dibuat telanjang kemudian dicambuk dan tangannya ditarik sehingga lepaslah bahunya, begitu juga… https://t.co/Nd9OWdRcM9',\n",
              " '... Tidakkah kita melihat mengenai kisah disembelihnya Nabi Allah Yahya bin Zakariya, terbunuhnya tiga Khulafa’ur R… https://t.co/fBYMfXWh9A',\n",
              " \"Wa'alaikumussalam wa rahmatullah wa barakatuh. semoga ada ke...\",\n",
              " 'Assalamualaikum warahmatullah wabarakatuh ustadz. Kiranya us...',\n",
              " \"assalamu'alaikum. perang badar ini bagi sebagian kalangan di...\",\n",
              " 'kalau bisa cari yg aman dari sesajen...',\n",
              " 'Ijin bertanya Ustdaz, Bagaimana hukum mengontrak rumah di Ba...']"
            ]
          },
          "metadata": {},
          "execution_count": 236
        }
      ]
    },
    {
      "cell_type": "code",
      "source": [
        "full_text = ' '.join(full_text)\n",
        "full_text"
      ],
      "metadata": {
        "colab": {
          "base_uri": "https://localhost:8080/",
          "height": 140
        },
        "id": "CBqokQE44HWL",
        "outputId": "85ae0a2c-de9f-45c5-8ce7-9601461bda52"
      },
      "execution_count": 237,
      "outputs": [
        {
          "output_type": "execute_result",
          "data": {
            "text/plain": [
              "\"Apa saja di balik surah Al-Fatihah? Beberapa catatan mengenai surah Al-Fatihah, Rumaysho.Com berusaha membuat ringkasan dari bahasan ulama besar yaitu Imam Ibnu Katsir dalam kitab tafsirnya, Tafsir Al-Qur’an Al-‘Azhim. Ada catatan tambahan yang diambil dari penjelasan Syaikh Musthafa Al-‘Adawi dalam At-Tashiil li Ta’wil At-Tanziil – Suurah Al-Baqarah fii Sual wa Jawab.  Al-Fatihah disebut dengan: 1. Al-Fatihah, yaitu Fatihatul Kitab secara tertulis dan juga sebagai pembuka dalam shalat. 2. Ummul Kitab, karena tiga maksud: (1) mushaf dimulai dengan Al-Fatihah, (2) bacaan surah dalam shalat dimulai dengan Al-Fatihah, (3) seluruh makna Al-Qur’an merujuk pada kandungan surah Al-Fatihah. 3. Ummul Qur’an. 4. As-Sab’ul Matsaani, matsaani artinya berulang-ulang, maksudnya surah Al-Fatihah dibaca berulang kali setiap rakaat. 5. Al-Qur’an Al-‘Azhim 6. Alhamdulillahi robbil ‘aalamiin 7. Alhamdu 8. Ash-Shalah, karena syarat sah shalat adalah membaca surah Al-Fatihah. Disebut juga Surah Ash-Shalah. 9. Asy-Syifaa’ (penawar), dalam hadits disebutkan, faatihatul kitaab syifaa’un min kulli sammin, artinya Al-Fatihah itu penawar dari segala macam racun. 10. Ar-Ruqyah, karena pernah Nabi shallallahu ‘alaihi wa sallam katakan surah Al-Fatihah sebagi ruqyah. 11. Asaasul qur’an, sebagaimana disebutkan oleh Ibnu ‘Abbas. 12. Al-Waaqiyah (pelindung, pencegah), sebagaimana disebutkan oleh Sufyan Ibnu ‘Uyainah. 13. Al-Kaafiyah (yang mencukupi dari lainnya, tanpa adanya surah Al-Fatihah yang lainnya tidak mencukupi), sebagaimana disebutkan oleh Yahya bin Abi Katsir (yang tepat: ‘Abdullah bin Yahya bin Abi Katsir). 14. Surah Al-Kanzi, artinya surah simpanan.  Kata Syaikh Musthafa Al-‘Adawi, surah Al-Fatihah termasuk surah Makkiyah menurut pendapat yang lebih kuat. Di antara alasan yang dikemukakan oleh beliau, kewajiban shalat itu di Makkah. Padahal Nabi shallallahu ‘alaihi wa sallam menyatakan, لاَ صَلاَةَ لِمَنْ لَمْ يَقْرَأْ بِفَاتِحَةِ الْكِتَابِ “Tidak ada shalat bagi orang yang tidak membaca Al-Fatihah.” (HR. Bukhari, no. 756 dan Muslim, no. 394)  – Surah Al-Fatihah terdiri dari tujuh ayat tanpa adanya ikhtilaf.\\n– Para ulama berselisih pendapat apakah basmalah itu bagian dari Al-Fatihah ataukah bukan, ataukah basmalah adalah ayat tersendiri.\\n– Ada yang mengatakan bahwa jumlah kata (al-kalimah) dalam Al-Fatihah adalah 25 kata. Jumlah hurufnya adalah 113 huruf. Dalam kitab lain disebutkan jumlah hurufnya adalah 156 (termasuk di dalamnya adalah basmalah, tasydid, dan alif pada Maalik). Baca juga: Tafsir Surah Al-Fatihah  Inilah pendapat jumhur ulama dari Imam Malik, Imam Syafii, Imam Ahmad bin Hambal dan pengikutnya. Dari ‘Ubadah bin Ash-Shoomit radhiyallahu ‘anhu, Rasulullah shallallahu ‘alaihi wa sallam bersabda, لاَ صَلاَةَ لِمَنْ لَمْ يَقْرَأْ بِفَاتِحَةِ الْكِتَابِ “Tidak ada shalat bagi orang yang tidak membaca Al-Fatihah”. (HR. Bukhari, no. 756 dan Muslim, no. 394) Dari Abu Hurairah radhiyallahu ‘anhu, haditsnya marfu’ sampai pada Nabi shallallahu ‘alaihi wa sallam, مَنْ صَلَّى صَلاَةً لَمْ يَقْرَأْ فِيهَا بِفَاتِحَةِ الْكِتَابِ فَهْىَ خِدَاجٌ “Barangsiapa yang melaksanakan shalat dan tidak membaca Al Fatihah di dalamnya, maka shalatnya itu kurang.” Perkataan ini diulang sampai tiga kali. (HR. Muslim, no. 395)  Madzhab Syafii dan mayoritas ulama menganggap bahwa surah Al-Fatihah wajib dibaca setiap rakaat. Baca juga: Seputar Membaca Bismillah  Ada tiga pendapat dalam hal ini: 1. Makmum tetap wajib baca sebagaimana imam karena konsekuensi dari keumuman hadits 2. Makmuk tidak perlu membaca sama sekali. 3. Dalam shalat sirriyyah, makmum wajib membaca dan tidak wajib membaca dalam shalat jahriyyah.\\xa0Karena ada hadits yang menyebutkan bahwa jika imam baca, maka diamlah. Baca juga: Pendapat Terkuat,\\xa0Apakah Makmum Diperintahkan Membaca Surah Al-Fatihah ataukah Cukup Imam?   Your email address will not be published. Required fields are marked * Comment * Name * Email * Website  Semoga kita termasuk orang-orang yang bersabar ketika menghadapi musibah, baik dengan hati lisan atau pun anggota b… https://t.co/M242pgozc0 ... Imam Malik yang dibuat telanjang kemudian dicambuk dan tangannya ditarik sehingga lepaslah bahunya, begitu juga… https://t.co/Nd9OWdRcM9 ... Tidakkah kita melihat mengenai kisah disembelihnya Nabi Allah Yahya bin Zakariya, terbunuhnya tiga Khulafa’ur R… https://t.co/fBYMfXWh9A Wa'alaikumussalam wa rahmatullah wa barakatuh. semoga ada ke... Assalamualaikum warahmatullah wabarakatuh ustadz. Kiranya us... assalamu'alaikum. perang badar ini bagi sebagian kalangan di... kalau bisa cari yg aman dari sesajen... Ijin bertanya Ustdaz, Bagaimana hukum mengontrak rumah di Ba...\""
            ],
            "application/vnd.google.colaboratory.intrinsic+json": {
              "type": "string"
            }
          },
          "metadata": {},
          "execution_count": 237
        }
      ]
    },
    {
      "cell_type": "code",
      "source": [
        "#Buat dataframe dari variabel list result\n",
        "df_hasil = pd.DataFrame(result)\n",
        "df_hasil"
      ],
      "metadata": {
        "colab": {
          "base_uri": "https://localhost:8080/",
          "height": 424
        },
        "id": "uODgSjXnraz_",
        "outputId": "92a08d65-c653-4097-bd4b-0cde1aa8a240"
      },
      "execution_count": 238,
      "outputs": [
        {
          "output_type": "execute_result",
          "data": {
            "text/plain": [
              "                                                      0\n",
              "0     b'<!DOCTYPE html>\\n<html lang=\"en-US\" class=\"\"...\n",
              "1     b'//gmpg.org/xfn/11\" />\\n\\t\\t\\t<script type=\"t...\n",
              "2     b'm(\"tie-skin\"),html=document.getElementsByTag...\n",
              "3     b'\"dark\"),null!=tieSkin&&tieSkin!=htmlSkin){ht...\n",
              "4     b'in\"):\"light\"==tieSkin&&html.remove(\"dark-ski...\n",
              "...                                                 ...\n",
              "1140  b'nction(){e.poly(),t.clearInterval(a)}):t.att...\n",
              "1141  b'\"!=typeof exports?exports.loadCSS=loadCSS:t....\n",
              "1142  b\"e='text/javascript'>\\n\\t\\t\\tvar c = document...\n",
              "1143  b';\\n\\t\\t</script>\\n\\t\\t\\n</body>\\n</html>\\n\\r...\n",
              "1144  b'cache/\\r\\n\\r\\n\\r\\nServed from: rumaysho.com ...\n",
              "\n",
              "[1145 rows x 1 columns]"
            ],
            "text/html": [
              "\n",
              "  <div id=\"df-ae29b7f8-6734-4ee0-9859-a3b80dde18c6\">\n",
              "    <div class=\"colab-df-container\">\n",
              "      <div>\n",
              "<style scoped>\n",
              "    .dataframe tbody tr th:only-of-type {\n",
              "        vertical-align: middle;\n",
              "    }\n",
              "\n",
              "    .dataframe tbody tr th {\n",
              "        vertical-align: top;\n",
              "    }\n",
              "\n",
              "    .dataframe thead th {\n",
              "        text-align: right;\n",
              "    }\n",
              "</style>\n",
              "<table border=\"1\" class=\"dataframe\">\n",
              "  <thead>\n",
              "    <tr style=\"text-align: right;\">\n",
              "      <th></th>\n",
              "      <th>0</th>\n",
              "    </tr>\n",
              "  </thead>\n",
              "  <tbody>\n",
              "    <tr>\n",
              "      <th>0</th>\n",
              "      <td>b'&lt;!DOCTYPE html&gt;\\n&lt;html lang=\"en-US\" class=\"\"...</td>\n",
              "    </tr>\n",
              "    <tr>\n",
              "      <th>1</th>\n",
              "      <td>b'//gmpg.org/xfn/11\" /&gt;\\n\\t\\t\\t&lt;script type=\"t...</td>\n",
              "    </tr>\n",
              "    <tr>\n",
              "      <th>2</th>\n",
              "      <td>b'm(\"tie-skin\"),html=document.getElementsByTag...</td>\n",
              "    </tr>\n",
              "    <tr>\n",
              "      <th>3</th>\n",
              "      <td>b'\"dark\"),null!=tieSkin&amp;&amp;tieSkin!=htmlSkin){ht...</td>\n",
              "    </tr>\n",
              "    <tr>\n",
              "      <th>4</th>\n",
              "      <td>b'in\"):\"light\"==tieSkin&amp;&amp;html.remove(\"dark-ski...</td>\n",
              "    </tr>\n",
              "    <tr>\n",
              "      <th>...</th>\n",
              "      <td>...</td>\n",
              "    </tr>\n",
              "    <tr>\n",
              "      <th>1140</th>\n",
              "      <td>b'nction(){e.poly(),t.clearInterval(a)}):t.att...</td>\n",
              "    </tr>\n",
              "    <tr>\n",
              "      <th>1141</th>\n",
              "      <td>b'\"!=typeof exports?exports.loadCSS=loadCSS:t....</td>\n",
              "    </tr>\n",
              "    <tr>\n",
              "      <th>1142</th>\n",
              "      <td>b\"e='text/javascript'&gt;\\n\\t\\t\\tvar c = document...</td>\n",
              "    </tr>\n",
              "    <tr>\n",
              "      <th>1143</th>\n",
              "      <td>b';\\n\\t\\t&lt;/script&gt;\\n\\t\\t\\n&lt;/body&gt;\\n&lt;/html&gt;\\n\\r...</td>\n",
              "    </tr>\n",
              "    <tr>\n",
              "      <th>1144</th>\n",
              "      <td>b'cache/\\r\\n\\r\\n\\r\\nServed from: rumaysho.com ...</td>\n",
              "    </tr>\n",
              "  </tbody>\n",
              "</table>\n",
              "<p>1145 rows × 1 columns</p>\n",
              "</div>\n",
              "      <button class=\"colab-df-convert\" onclick=\"convertToInteractive('df-ae29b7f8-6734-4ee0-9859-a3b80dde18c6')\"\n",
              "              title=\"Convert this dataframe to an interactive table.\"\n",
              "              style=\"display:none;\">\n",
              "        \n",
              "  <svg xmlns=\"http://www.w3.org/2000/svg\" height=\"24px\"viewBox=\"0 0 24 24\"\n",
              "       width=\"24px\">\n",
              "    <path d=\"M0 0h24v24H0V0z\" fill=\"none\"/>\n",
              "    <path d=\"M18.56 5.44l.94 2.06.94-2.06 2.06-.94-2.06-.94-.94-2.06-.94 2.06-2.06.94zm-11 1L8.5 8.5l.94-2.06 2.06-.94-2.06-.94L8.5 2.5l-.94 2.06-2.06.94zm10 10l.94 2.06.94-2.06 2.06-.94-2.06-.94-.94-2.06-.94 2.06-2.06.94z\"/><path d=\"M17.41 7.96l-1.37-1.37c-.4-.4-.92-.59-1.43-.59-.52 0-1.04.2-1.43.59L10.3 9.45l-7.72 7.72c-.78.78-.78 2.05 0 2.83L4 21.41c.39.39.9.59 1.41.59.51 0 1.02-.2 1.41-.59l7.78-7.78 2.81-2.81c.8-.78.8-2.07 0-2.86zM5.41 20L4 18.59l7.72-7.72 1.47 1.35L5.41 20z\"/>\n",
              "  </svg>\n",
              "      </button>\n",
              "      \n",
              "  <style>\n",
              "    .colab-df-container {\n",
              "      display:flex;\n",
              "      flex-wrap:wrap;\n",
              "      gap: 12px;\n",
              "    }\n",
              "\n",
              "    .colab-df-convert {\n",
              "      background-color: #E8F0FE;\n",
              "      border: none;\n",
              "      border-radius: 50%;\n",
              "      cursor: pointer;\n",
              "      display: none;\n",
              "      fill: #1967D2;\n",
              "      height: 32px;\n",
              "      padding: 0 0 0 0;\n",
              "      width: 32px;\n",
              "    }\n",
              "\n",
              "    .colab-df-convert:hover {\n",
              "      background-color: #E2EBFA;\n",
              "      box-shadow: 0px 1px 2px rgba(60, 64, 67, 0.3), 0px 1px 3px 1px rgba(60, 64, 67, 0.15);\n",
              "      fill: #174EA6;\n",
              "    }\n",
              "\n",
              "    [theme=dark] .colab-df-convert {\n",
              "      background-color: #3B4455;\n",
              "      fill: #D2E3FC;\n",
              "    }\n",
              "\n",
              "    [theme=dark] .colab-df-convert:hover {\n",
              "      background-color: #434B5C;\n",
              "      box-shadow: 0px 1px 3px 1px rgba(0, 0, 0, 0.15);\n",
              "      filter: drop-shadow(0px 1px 2px rgba(0, 0, 0, 0.3));\n",
              "      fill: #FFFFFF;\n",
              "    }\n",
              "  </style>\n",
              "\n",
              "      <script>\n",
              "        const buttonEl =\n",
              "          document.querySelector('#df-ae29b7f8-6734-4ee0-9859-a3b80dde18c6 button.colab-df-convert');\n",
              "        buttonEl.style.display =\n",
              "          google.colab.kernel.accessAllowed ? 'block' : 'none';\n",
              "\n",
              "        async function convertToInteractive(key) {\n",
              "          const element = document.querySelector('#df-ae29b7f8-6734-4ee0-9859-a3b80dde18c6');\n",
              "          const dataTable =\n",
              "            await google.colab.kernel.invokeFunction('convertToInteractive',\n",
              "                                                     [key], {});\n",
              "          if (!dataTable) return;\n",
              "\n",
              "          const docLinkHtml = 'Like what you see? Visit the ' +\n",
              "            '<a target=\"_blank\" href=https://colab.research.google.com/notebooks/data_table.ipynb>data table notebook</a>'\n",
              "            + ' to learn more about interactive tables.';\n",
              "          element.innerHTML = '';\n",
              "          dataTable['output_type'] = 'display_data';\n",
              "          await google.colab.output.renderOutput(dataTable, element);\n",
              "          const docLink = document.createElement('div');\n",
              "          docLink.innerHTML = docLinkHtml;\n",
              "          element.appendChild(docLink);\n",
              "        }\n",
              "      </script>\n",
              "    </div>\n",
              "  </div>\n",
              "  "
            ]
          },
          "metadata": {},
          "execution_count": 238
        }
      ]
    },
    {
      "cell_type": "code",
      "source": [
        "df_hasil.to_excel('187_data_doorsmer.xls', index=False)"
      ],
      "metadata": {
        "id": "BE5wcpdwDhNt",
        "colab": {
          "base_uri": "https://localhost:8080/"
        },
        "outputId": "08fb1b81-1ea0-4f2b-d74a-a5e98955ad02"
      },
      "execution_count": 239,
      "outputs": [
        {
          "output_type": "stream",
          "name": "stderr",
          "text": [
            "/usr/local/lib/python3.7/dist-packages/ipykernel_launcher.py:1: FutureWarning: As the xlwt package is no longer maintained, the xlwt engine will be removed in a future version of pandas. This is the only engine in pandas that supports writing in the xls format. Install openpyxl and write to an xlsx file instead. You can set the option io.excel.xls.writer to 'xlwt' to silence this warning. While this option is deprecated and will also raise a warning, it can be globally set and the warning suppressed.\n",
            "  \"\"\"Entry point for launching an IPython kernel.\n"
          ]
        }
      ]
    },
    {
      "cell_type": "markdown",
      "source": [
        "# CRAWLING DATA"
      ],
      "metadata": {
        "id": "zS7LL3sO17b5"
      }
    },
    {
      "cell_type": "code",
      "source": [
        "import os \n",
        "import csv \n",
        "import tweepy as tw \n",
        "import pandas as pd"
      ],
      "metadata": {
        "id": "urMBM0zfdwck"
      },
      "execution_count": 240,
      "outputs": []
    },
    {
      "cell_type": "code",
      "source": [
        "access_token = \"3760416139-MLn5ifjLKCSXh4dWrgmOsSpQ6lYvefNkbQNuM35\"\n",
        "access_token_secret =\"KsKpKqYwCli8YDNJg15y8ZW0quVlfGwrUCrOX4xLZHMaE\"\n",
        "consumer_key =\"gchYjFhHc48sIveGC8fMVa2Sw\"\n",
        "consumer_secret=\"F4wR4cp8CIcAhkUgVFtrOZDg9CDKaroN9O0dkh2vSxgubnoKCb\""
      ],
      "metadata": {
        "id": "2-nUCI09fgAu"
      },
      "execution_count": 241,
      "outputs": []
    },
    {
      "cell_type": "code",
      "source": [
        "auth = tw.OAuthHandler(consumer_key, consumer_secret)\n",
        "auth.set_access_token(access_token, access_token_secret)\n",
        "api = tw.API(auth, wait_on_rate_limit=True)"
      ],
      "metadata": {
        "id": "xXZJYT26fkYL"
      },
      "execution_count": 242,
      "outputs": []
    },
    {
      "cell_type": "code",
      "source": [
        "search_words = \"perkawinan\""
      ],
      "metadata": {
        "id": "iZueLX7Hfnff"
      },
      "execution_count": 243,
      "outputs": []
    },
    {
      "cell_type": "code",
      "source": [
        "csvFile = open('dp3akb-od_15442_jml_perkawinan_usia_16_19_thn__jk_data.csv', 'a')\n",
        "\n",
        "csvWriter = csv.writer(csvFile)\n",
        "\n",
        "ids = set()\n",
        "csvWriter.writerow(['id', 'kode_provinsi', 'nama_provinsi', 'kode_kabupaten_kota', 'nama_kabupaten_kota', 'jenis_kelamin' ,'jumlah_perkawinan' , 'satuan' , 'tahun'])\n",
        "\n",
        "csvFile.close()"
      ],
      "metadata": {
        "id": "A-TVk-Rvf7AQ"
      },
      "execution_count": 244,
      "outputs": []
    },
    {
      "cell_type": "code",
      "source": [
        "csvFile = open('dp3akb-od_15442_jml_perkawinan_usia_16_19_thn__jk_data.csv', 'a')\n",
        "#Use csv Writer\n",
        "csvWriter = csv.writer(csvFile)\n",
        "\n",
        "ids = set()\n",
        "\n",
        "for tweet in  tw.Cursor(api.search,\n",
        "                   q=search_words,\n",
        "                   kode_provinsi ='JAWA BARAT', \n",
        "                   lang='id', \n",
        "                   tweet_mode = 'extended').items(1000):\n",
        "  #if (not tweet.retweeted) and ('RT @' not in tweet.full_text):\n",
        "    #Write a row to the csv file/ I use encode utf-8\n",
        "    csvWriter.writerow([tweet.created_at, tweet.full_text.encode('utf_8'), tweet.favorite_count, tweet.retweet_count, tweet.id, tweet.user.screen_name])\n",
        "    #print \"...%s tweets downloaded so far\" % (len(tweet.id))\n",
        "    ids.add(tweet.id) # add new id\n",
        "    #print (\"number of unique ids seen so far: {}\",format(len(ids)))\n",
        "csvFile.close()"
      ],
      "metadata": {
        "id": "A4iCYTF3gBBs"
      },
      "execution_count": 245,
      "outputs": []
    },
    {
      "cell_type": "code",
      "source": [
        "df = pd.read_csv('dp3akb-od_15442_jml_perkawinan_usia_16_19_thn__jk_data.csv')\n",
        "df.head()"
      ],
      "metadata": {
        "colab": {
          "base_uri": "https://localhost:8080/",
          "height": 337
        },
        "id": "ajd-eCuDo-ph",
        "outputId": "29c2fd01-8731-4872-c8f2-555f5c894176"
      },
      "execution_count": 246,
      "outputs": [
        {
          "output_type": "execute_result",
          "data": {
            "text/plain": [
              "                    id                                      kode_provinsi  \\\n",
              "0  2022-10-18 14:55:36  b'@apologiskatolik @rinlovescookies @liefderei...   \n",
              "1  2022-10-18 14:47:14  b'Heboh cerita sebuah keluarga yang disebut me...   \n",
              "2  2022-10-18 14:44:02  b'Kuy anak\\xc2\\xb2 bunda hasil perkawinan sama...   \n",
              "3  2022-10-18 14:41:45  b'today\\xe2\\x80\\x99s recap\\xf0\\x9f\\xa7\\xa9\\n\\x...   \n",
              "4  2022-10-18 14:33:23  b'serius deh. anjing jenis ini beneran titisan...   \n",
              "\n",
              "   nama_provinsi  kode_kabupaten_kota  nama_kabupaten_kota jenis_kelamin  \\\n",
              "0              0                    0  1582384910689796096  garagarawiro   \n",
              "1              0                    0  1582382804570345472   detikHealth   \n",
              "2              0                    0  1582381998064402432     Kenangpng   \n",
              "3              0                    0  1582381422765281282       pawwwsh   \n",
              "4              0                    0  1582379317832876032       atsiumu   \n",
              "\n",
              "   jumlah_perkawinan  satuan  tahun  \n",
              "0                NaN     NaN    NaN  \n",
              "1                NaN     NaN    NaN  \n",
              "2                NaN     NaN    NaN  \n",
              "3                NaN     NaN    NaN  \n",
              "4                NaN     NaN    NaN  "
            ],
            "text/html": [
              "\n",
              "  <div id=\"df-157b0700-c3c0-4108-a739-ac397ddc8789\">\n",
              "    <div class=\"colab-df-container\">\n",
              "      <div>\n",
              "<style scoped>\n",
              "    .dataframe tbody tr th:only-of-type {\n",
              "        vertical-align: middle;\n",
              "    }\n",
              "\n",
              "    .dataframe tbody tr th {\n",
              "        vertical-align: top;\n",
              "    }\n",
              "\n",
              "    .dataframe thead th {\n",
              "        text-align: right;\n",
              "    }\n",
              "</style>\n",
              "<table border=\"1\" class=\"dataframe\">\n",
              "  <thead>\n",
              "    <tr style=\"text-align: right;\">\n",
              "      <th></th>\n",
              "      <th>id</th>\n",
              "      <th>kode_provinsi</th>\n",
              "      <th>nama_provinsi</th>\n",
              "      <th>kode_kabupaten_kota</th>\n",
              "      <th>nama_kabupaten_kota</th>\n",
              "      <th>jenis_kelamin</th>\n",
              "      <th>jumlah_perkawinan</th>\n",
              "      <th>satuan</th>\n",
              "      <th>tahun</th>\n",
              "    </tr>\n",
              "  </thead>\n",
              "  <tbody>\n",
              "    <tr>\n",
              "      <th>0</th>\n",
              "      <td>2022-10-18 14:55:36</td>\n",
              "      <td>b'@apologiskatolik @rinlovescookies @liefderei...</td>\n",
              "      <td>0</td>\n",
              "      <td>0</td>\n",
              "      <td>1582384910689796096</td>\n",
              "      <td>garagarawiro</td>\n",
              "      <td>NaN</td>\n",
              "      <td>NaN</td>\n",
              "      <td>NaN</td>\n",
              "    </tr>\n",
              "    <tr>\n",
              "      <th>1</th>\n",
              "      <td>2022-10-18 14:47:14</td>\n",
              "      <td>b'Heboh cerita sebuah keluarga yang disebut me...</td>\n",
              "      <td>0</td>\n",
              "      <td>0</td>\n",
              "      <td>1582382804570345472</td>\n",
              "      <td>detikHealth</td>\n",
              "      <td>NaN</td>\n",
              "      <td>NaN</td>\n",
              "      <td>NaN</td>\n",
              "    </tr>\n",
              "    <tr>\n",
              "      <th>2</th>\n",
              "      <td>2022-10-18 14:44:02</td>\n",
              "      <td>b'Kuy anak\\xc2\\xb2 bunda hasil perkawinan sama...</td>\n",
              "      <td>0</td>\n",
              "      <td>0</td>\n",
              "      <td>1582381998064402432</td>\n",
              "      <td>Kenangpng</td>\n",
              "      <td>NaN</td>\n",
              "      <td>NaN</td>\n",
              "      <td>NaN</td>\n",
              "    </tr>\n",
              "    <tr>\n",
              "      <th>3</th>\n",
              "      <td>2022-10-18 14:41:45</td>\n",
              "      <td>b'today\\xe2\\x80\\x99s recap\\xf0\\x9f\\xa7\\xa9\\n\\x...</td>\n",
              "      <td>0</td>\n",
              "      <td>0</td>\n",
              "      <td>1582381422765281282</td>\n",
              "      <td>pawwwsh</td>\n",
              "      <td>NaN</td>\n",
              "      <td>NaN</td>\n",
              "      <td>NaN</td>\n",
              "    </tr>\n",
              "    <tr>\n",
              "      <th>4</th>\n",
              "      <td>2022-10-18 14:33:23</td>\n",
              "      <td>b'serius deh. anjing jenis ini beneran titisan...</td>\n",
              "      <td>0</td>\n",
              "      <td>0</td>\n",
              "      <td>1582379317832876032</td>\n",
              "      <td>atsiumu</td>\n",
              "      <td>NaN</td>\n",
              "      <td>NaN</td>\n",
              "      <td>NaN</td>\n",
              "    </tr>\n",
              "  </tbody>\n",
              "</table>\n",
              "</div>\n",
              "      <button class=\"colab-df-convert\" onclick=\"convertToInteractive('df-157b0700-c3c0-4108-a739-ac397ddc8789')\"\n",
              "              title=\"Convert this dataframe to an interactive table.\"\n",
              "              style=\"display:none;\">\n",
              "        \n",
              "  <svg xmlns=\"http://www.w3.org/2000/svg\" height=\"24px\"viewBox=\"0 0 24 24\"\n",
              "       width=\"24px\">\n",
              "    <path d=\"M0 0h24v24H0V0z\" fill=\"none\"/>\n",
              "    <path d=\"M18.56 5.44l.94 2.06.94-2.06 2.06-.94-2.06-.94-.94-2.06-.94 2.06-2.06.94zm-11 1L8.5 8.5l.94-2.06 2.06-.94-2.06-.94L8.5 2.5l-.94 2.06-2.06.94zm10 10l.94 2.06.94-2.06 2.06-.94-2.06-.94-.94-2.06-.94 2.06-2.06.94z\"/><path d=\"M17.41 7.96l-1.37-1.37c-.4-.4-.92-.59-1.43-.59-.52 0-1.04.2-1.43.59L10.3 9.45l-7.72 7.72c-.78.78-.78 2.05 0 2.83L4 21.41c.39.39.9.59 1.41.59.51 0 1.02-.2 1.41-.59l7.78-7.78 2.81-2.81c.8-.78.8-2.07 0-2.86zM5.41 20L4 18.59l7.72-7.72 1.47 1.35L5.41 20z\"/>\n",
              "  </svg>\n",
              "      </button>\n",
              "      \n",
              "  <style>\n",
              "    .colab-df-container {\n",
              "      display:flex;\n",
              "      flex-wrap:wrap;\n",
              "      gap: 12px;\n",
              "    }\n",
              "\n",
              "    .colab-df-convert {\n",
              "      background-color: #E8F0FE;\n",
              "      border: none;\n",
              "      border-radius: 50%;\n",
              "      cursor: pointer;\n",
              "      display: none;\n",
              "      fill: #1967D2;\n",
              "      height: 32px;\n",
              "      padding: 0 0 0 0;\n",
              "      width: 32px;\n",
              "    }\n",
              "\n",
              "    .colab-df-convert:hover {\n",
              "      background-color: #E2EBFA;\n",
              "      box-shadow: 0px 1px 2px rgba(60, 64, 67, 0.3), 0px 1px 3px 1px rgba(60, 64, 67, 0.15);\n",
              "      fill: #174EA6;\n",
              "    }\n",
              "\n",
              "    [theme=dark] .colab-df-convert {\n",
              "      background-color: #3B4455;\n",
              "      fill: #D2E3FC;\n",
              "    }\n",
              "\n",
              "    [theme=dark] .colab-df-convert:hover {\n",
              "      background-color: #434B5C;\n",
              "      box-shadow: 0px 1px 3px 1px rgba(0, 0, 0, 0.15);\n",
              "      filter: drop-shadow(0px 1px 2px rgba(0, 0, 0, 0.3));\n",
              "      fill: #FFFFFF;\n",
              "    }\n",
              "  </style>\n",
              "\n",
              "      <script>\n",
              "        const buttonEl =\n",
              "          document.querySelector('#df-157b0700-c3c0-4108-a739-ac397ddc8789 button.colab-df-convert');\n",
              "        buttonEl.style.display =\n",
              "          google.colab.kernel.accessAllowed ? 'block' : 'none';\n",
              "\n",
              "        async function convertToInteractive(key) {\n",
              "          const element = document.querySelector('#df-157b0700-c3c0-4108-a739-ac397ddc8789');\n",
              "          const dataTable =\n",
              "            await google.colab.kernel.invokeFunction('convertToInteractive',\n",
              "                                                     [key], {});\n",
              "          if (!dataTable) return;\n",
              "\n",
              "          const docLinkHtml = 'Like what you see? Visit the ' +\n",
              "            '<a target=\"_blank\" href=https://colab.research.google.com/notebooks/data_table.ipynb>data table notebook</a>'\n",
              "            + ' to learn more about interactive tables.';\n",
              "          element.innerHTML = '';\n",
              "          dataTable['output_type'] = 'display_data';\n",
              "          await google.colab.output.renderOutput(dataTable, element);\n",
              "          const docLink = document.createElement('div');\n",
              "          docLink.innerHTML = docLinkHtml;\n",
              "          element.appendChild(docLink);\n",
              "        }\n",
              "      </script>\n",
              "    </div>\n",
              "  </div>\n",
              "  "
            ]
          },
          "metadata": {},
          "execution_count": 246
        }
      ]
    },
    {
      "cell_type": "markdown",
      "source": [
        "# CREATE DATA JSON"
      ],
      "metadata": {
        "id": "Apja8oYP4kzV"
      }
    },
    {
      "cell_type": "code",
      "source": [
        "#Import Modul\n",
        "from bs4 import BeautifulSoup\n",
        "import requests\n",
        "import json\n",
        "import pandas as pd"
      ],
      "metadata": {
        "id": "rasgBPD74MGf"
      },
      "execution_count": 253,
      "outputs": []
    },
    {
      "cell_type": "code",
      "source": [
        "data_json = \"/content/data.json\""
      ],
      "metadata": {
        "id": "3BVu6Vr5pr4k"
      },
      "execution_count": 254,
      "outputs": []
    },
    {
      "cell_type": "code",
      "source": [
        "with open('data.json', 'r') as out:\n",
        "  data_json = json.load(out)"
      ],
      "metadata": {
        "id": "to9WjGhhp5sl"
      },
      "execution_count": 255,
      "outputs": []
    },
    {
      "cell_type": "code",
      "source": [
        "pd.read_json('data.json').to_csv('data.csv')"
      ],
      "metadata": {
        "id": "j2vUvKnlp9X2"
      },
      "execution_count": 256,
      "outputs": []
    },
    {
      "cell_type": "code",
      "source": [
        "df = pd.read_csv('data.csv')\n",
        "df.head()"
      ],
      "metadata": {
        "colab": {
          "base_uri": "https://localhost:8080/",
          "height": 206
        },
        "id": "3r2vWr7eqb2P",
        "outputId": "8a4b3074-3305-441d-e141-031e781ceeb6"
      },
      "execution_count": 257,
      "outputs": [
        {
          "output_type": "execute_result",
          "data": {
            "text/plain": [
              "   Unnamed: 0                                            intents\n",
              "0           0  {'tag': 'greeting', 'patterns': ['hallo', 'hai...\n",
              "1           1  {'tag': 'goodbye', 'patterns': ['Dah', 'Dadah'...\n",
              "2           2  {'tag': 'terimakasih', 'patterns': ['Thanks', ...\n",
              "3           3  {'tag': 'penjelasan_kota_brebes', 'patterns': ...\n",
              "4           4  {'tag': 'wisata kuliner kota Brebes', 'pattern..."
            ],
            "text/html": [
              "\n",
              "  <div id=\"df-d109febc-423f-4ee0-a22d-dc71c2e08026\">\n",
              "    <div class=\"colab-df-container\">\n",
              "      <div>\n",
              "<style scoped>\n",
              "    .dataframe tbody tr th:only-of-type {\n",
              "        vertical-align: middle;\n",
              "    }\n",
              "\n",
              "    .dataframe tbody tr th {\n",
              "        vertical-align: top;\n",
              "    }\n",
              "\n",
              "    .dataframe thead th {\n",
              "        text-align: right;\n",
              "    }\n",
              "</style>\n",
              "<table border=\"1\" class=\"dataframe\">\n",
              "  <thead>\n",
              "    <tr style=\"text-align: right;\">\n",
              "      <th></th>\n",
              "      <th>Unnamed: 0</th>\n",
              "      <th>intents</th>\n",
              "    </tr>\n",
              "  </thead>\n",
              "  <tbody>\n",
              "    <tr>\n",
              "      <th>0</th>\n",
              "      <td>0</td>\n",
              "      <td>{'tag': 'greeting', 'patterns': ['hallo', 'hai...</td>\n",
              "    </tr>\n",
              "    <tr>\n",
              "      <th>1</th>\n",
              "      <td>1</td>\n",
              "      <td>{'tag': 'goodbye', 'patterns': ['Dah', 'Dadah'...</td>\n",
              "    </tr>\n",
              "    <tr>\n",
              "      <th>2</th>\n",
              "      <td>2</td>\n",
              "      <td>{'tag': 'terimakasih', 'patterns': ['Thanks', ...</td>\n",
              "    </tr>\n",
              "    <tr>\n",
              "      <th>3</th>\n",
              "      <td>3</td>\n",
              "      <td>{'tag': 'penjelasan_kota_brebes', 'patterns': ...</td>\n",
              "    </tr>\n",
              "    <tr>\n",
              "      <th>4</th>\n",
              "      <td>4</td>\n",
              "      <td>{'tag': 'wisata kuliner kota Brebes', 'pattern...</td>\n",
              "    </tr>\n",
              "  </tbody>\n",
              "</table>\n",
              "</div>\n",
              "      <button class=\"colab-df-convert\" onclick=\"convertToInteractive('df-d109febc-423f-4ee0-a22d-dc71c2e08026')\"\n",
              "              title=\"Convert this dataframe to an interactive table.\"\n",
              "              style=\"display:none;\">\n",
              "        \n",
              "  <svg xmlns=\"http://www.w3.org/2000/svg\" height=\"24px\"viewBox=\"0 0 24 24\"\n",
              "       width=\"24px\">\n",
              "    <path d=\"M0 0h24v24H0V0z\" fill=\"none\"/>\n",
              "    <path d=\"M18.56 5.44l.94 2.06.94-2.06 2.06-.94-2.06-.94-.94-2.06-.94 2.06-2.06.94zm-11 1L8.5 8.5l.94-2.06 2.06-.94-2.06-.94L8.5 2.5l-.94 2.06-2.06.94zm10 10l.94 2.06.94-2.06 2.06-.94-2.06-.94-.94-2.06-.94 2.06-2.06.94z\"/><path d=\"M17.41 7.96l-1.37-1.37c-.4-.4-.92-.59-1.43-.59-.52 0-1.04.2-1.43.59L10.3 9.45l-7.72 7.72c-.78.78-.78 2.05 0 2.83L4 21.41c.39.39.9.59 1.41.59.51 0 1.02-.2 1.41-.59l7.78-7.78 2.81-2.81c.8-.78.8-2.07 0-2.86zM5.41 20L4 18.59l7.72-7.72 1.47 1.35L5.41 20z\"/>\n",
              "  </svg>\n",
              "      </button>\n",
              "      \n",
              "  <style>\n",
              "    .colab-df-container {\n",
              "      display:flex;\n",
              "      flex-wrap:wrap;\n",
              "      gap: 12px;\n",
              "    }\n",
              "\n",
              "    .colab-df-convert {\n",
              "      background-color: #E8F0FE;\n",
              "      border: none;\n",
              "      border-radius: 50%;\n",
              "      cursor: pointer;\n",
              "      display: none;\n",
              "      fill: #1967D2;\n",
              "      height: 32px;\n",
              "      padding: 0 0 0 0;\n",
              "      width: 32px;\n",
              "    }\n",
              "\n",
              "    .colab-df-convert:hover {\n",
              "      background-color: #E2EBFA;\n",
              "      box-shadow: 0px 1px 2px rgba(60, 64, 67, 0.3), 0px 1px 3px 1px rgba(60, 64, 67, 0.15);\n",
              "      fill: #174EA6;\n",
              "    }\n",
              "\n",
              "    [theme=dark] .colab-df-convert {\n",
              "      background-color: #3B4455;\n",
              "      fill: #D2E3FC;\n",
              "    }\n",
              "\n",
              "    [theme=dark] .colab-df-convert:hover {\n",
              "      background-color: #434B5C;\n",
              "      box-shadow: 0px 1px 3px 1px rgba(0, 0, 0, 0.15);\n",
              "      filter: drop-shadow(0px 1px 2px rgba(0, 0, 0, 0.3));\n",
              "      fill: #FFFFFF;\n",
              "    }\n",
              "  </style>\n",
              "\n",
              "      <script>\n",
              "        const buttonEl =\n",
              "          document.querySelector('#df-d109febc-423f-4ee0-a22d-dc71c2e08026 button.colab-df-convert');\n",
              "        buttonEl.style.display =\n",
              "          google.colab.kernel.accessAllowed ? 'block' : 'none';\n",
              "\n",
              "        async function convertToInteractive(key) {\n",
              "          const element = document.querySelector('#df-d109febc-423f-4ee0-a22d-dc71c2e08026');\n",
              "          const dataTable =\n",
              "            await google.colab.kernel.invokeFunction('convertToInteractive',\n",
              "                                                     [key], {});\n",
              "          if (!dataTable) return;\n",
              "\n",
              "          const docLinkHtml = 'Like what you see? Visit the ' +\n",
              "            '<a target=\"_blank\" href=https://colab.research.google.com/notebooks/data_table.ipynb>data table notebook</a>'\n",
              "            + ' to learn more about interactive tables.';\n",
              "          element.innerHTML = '';\n",
              "          dataTable['output_type'] = 'display_data';\n",
              "          await google.colab.output.renderOutput(dataTable, element);\n",
              "          const docLink = document.createElement('div');\n",
              "          docLink.innerHTML = docLinkHtml;\n",
              "          element.appendChild(docLink);\n",
              "        }\n",
              "      </script>\n",
              "    </div>\n",
              "  </div>\n",
              "  "
            ]
          },
          "metadata": {},
          "execution_count": 257
        }
      ]
    }
  ]
}